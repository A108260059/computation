{
  "nbformat": 4,
  "nbformat_minor": 0,
  "metadata": {
    "colab": {
      "name": "Week8 A108260059 周睿承",
      "provenance": [],
      "include_colab_link": true
    },
    "kernelspec": {
      "name": "python3",
      "display_name": "Python 3"
    }
  },
  "cells": [
    {
      "cell_type": "markdown",
      "metadata": {
        "id": "view-in-github",
        "colab_type": "text"
      },
      "source": [
        "<a href=\"https://colab.research.google.com/github/rray891012/computation/blob/master/Week8_A108260059_%E5%91%A8%E7%9D%BF%E6%89%BF.ipynb\" target=\"_parent\"><img src=\"https://colab.research.google.com/assets/colab-badge.svg\" alt=\"Open In Colab\"/></a>"
      ]
    },
    {
      "cell_type": "code",
      "metadata": {
        "id": "ZVHHRWHof1g8",
        "colab_type": "code",
        "colab": {
          "base_uri": "https://localhost:8080/",
          "height": 68
        },
        "outputId": "f73940f7-d85d-42b5-d437-9dbb06749dbe"
      },
      "source": [
        "print(\"Welcome to the Mashup Game!\")\n",
        "name1 = input(\"Enter one full name (FIRST LAST): \")\n",
        "name2 = input(\"Enter another full name (FIRST LAST): \")"
      ],
      "execution_count": 1,
      "outputs": [
        {
          "output_type": "stream",
          "text": [
            "Welcome to the Mashup Game!\n",
            "Enter one full name (FIRST LAST): Aqua Man\n",
            "Enter another full name (FIRST LAST): Cat Woman\n"
          ],
          "name": "stdout"
        }
      ]
    },
    {
      "cell_type": "code",
      "metadata": {
        "id": "LK_Yjou5f_5d",
        "colab_type": "code",
        "colab": {
          "base_uri": "https://localhost:8080/",
          "height": 85
        },
        "outputId": "3fb23129-2fb5-4b8a-fd2e-7c00cc4321f6"
      },
      "source": [
        "space = name1.find(\" \")\n",
        "name1_first = name1[0:space]\n",
        "name1_last = name1[space+1:len(name1)] \n",
        "space = name2.find(\" \")\n",
        "name2_first = name2[0:space]\n",
        "name2_last = name2[space+1:len(name2)]\n",
        "print(name1_first)\n",
        "print(name1_last)\n",
        "print(name2_first)\n",
        "print(name2_last)\n",
        "len_name1_first = len(name1_first)\n",
        "len_name2_first = len(name2_first)\n",
        "len_name1_last = len(name1_last)\n",
        "len_name2_last = len(name2_last)\n",
        "index_name1_first = int(len_name1_first/2)\n",
        "index_name2_first = int(len_name2_first/2)\n",
        "index_name1_last = int(len_name1_last/2)\n",
        "index_name2_last = int(len_name2_last/2)\n",
        "lefthalf_name1_first = name1_first[0:index_name1_first]\n",
        "righthalf_name1_first = name1_first[index_name1_first:len_name1_first]\n",
        "lefthalf_name2_first = name2_first[0:index_name2_first]\n",
        "righthalf_name2_first = name2_first[index_name2_first:len_name2_first]\n",
        "lefthalf_name1_last = name1_last[0:index_name1_last]\n",
        "righthalf_name1_last = name1_last[index_name1_last:len_name1_last]\n",
        "lefthalf_name2_last = name2_last[0:index_name2_last]\n",
        "righthalf_name2_last = name2_last[index_name2_last:len_name2_last]\n",
        "newname1_first = lefthalf_name1_first.capitalize() + righthalf_name1_first.lower()\n",
        "#B\n",
        "newname1_last = lefthalf_name1_last.capitalize() + righthalf_name2_last.lower()\n",
        "newname2_first = lefthalf_name2_first.capitalize() + righthalf_name1_first.lower()\n",
        "newname2_last = lefthalf_name2_last.capitalize() + righthalf_name1_last.lower()"
      ],
      "execution_count": 2,
      "outputs": [
        {
          "output_type": "stream",
          "text": [
            "Aqua\n",
            "Man\n",
            "Cat\n",
            "Woman\n"
          ],
          "name": "stdout"
        }
      ]
    },
    {
      "cell_type": "code",
      "metadata": {
        "id": "meB1ArfigMj9",
        "colab_type": "code",
        "colab": {
          "base_uri": "https://localhost:8080/",
          "height": 68
        },
        "outputId": "150712e0-ea24-4c5d-b7f0-f79bdaee1118"
      },
      "source": [
        "print(\"All done! Here are two possibilities, pick the one you like best!\")\n",
        "print(newname1_first, newname1_last)\n",
        "print(newname2_first, newname2_last)"
      ],
      "execution_count": 3,
      "outputs": [
        {
          "output_type": "stream",
          "text": [
            "All done! Here are two possibilities, pick the one you like best!\n",
            "Aqua Mman\n",
            "Cua Woan\n"
          ],
          "name": "stdout"
        }
      ]
    },
    {
      "cell_type": "code",
      "metadata": {
        "id": "61kYrKgfgO0M",
        "colab_type": "code",
        "colab": {
          "base_uri": "https://localhost:8080/",
          "height": 136
        },
        "outputId": "d4d69cdd-ff64-4b63-ffa7-5641e2d97b6d"
      },
      "source": [
        "待辦事項 = []\n",
        "工作 = input('請輸入待辦事項?')\n",
        "待辦事項.append(工作)\n",
        "工作 = input('請輸入待辦事項?')\n",
        "待辦事項.append(工作)\n",
        "工作 = input('請輸入待辦事項?')\n",
        "待辦事項.append(工作)\n",
        "工作 = input('請輸入待辦事項?')\n",
        "待辦事項.append(工作)\n",
        "工作 = input('請輸入待辦事項?')\n",
        "待辦事項.append(工作)\n",
        "print(待辦事項.pop(0), 待辦事項.pop(0), 待辦事項)\n",
        "print(待辦事項.pop(), 待辦事項)"
      ],
      "execution_count": 4,
      "outputs": [
        {
          "output_type": "stream",
          "text": [
            "請輸入待辦事項?打球\n",
            "請輸入待辦事項?健身\n",
            "請輸入待辦事項?看比賽\n",
            "請輸入待辦事項?睡覺\n",
            "請輸入待辦事項?吃飯\n",
            "打球 健身 ['看比賽', '睡覺', '吃飯']\n",
            "吃飯 ['看比賽', '睡覺']\n"
          ],
          "name": "stdout"
        }
      ]
    },
    {
      "cell_type": "code",
      "metadata": {
        "id": "gFRI7-UsgRCr",
        "colab_type": "code",
        "colab": {
          "base_uri": "https://localhost:8080/",
          "height": 85
        },
        "outputId": "457a1be7-96ca-4e24-876f-3d48da173ef2"
      },
      "source": [
        "s = input('請輸入一行英文句子?')\n",
        "words = s.split(' ')\n",
        "print('將英文句子以空白字元切割後,獲得單字為', words)\n",
        "s2 = ' '.join(words)\n",
        "print('以空白字元結合所有單字後,獲得句子為', s2)\n",
        "s3 = s.title()\n",
        "print('將每個單字字首轉大寫後,獲得句子為',s3)\n"
      ],
      "execution_count": 5,
      "outputs": [
        {
          "output_type": "stream",
          "text": [
            "請輸入一行英文句子?an apple a day keeps the doctor away\n",
            "將英文句子以空白字元切割後,獲得單字為 ['an', 'apple', 'a', 'day', 'keeps', 'the', 'doctor', 'away']\n",
            "以空白字元結合所有單字後,獲得句子為 an apple a day keeps the doctor away\n",
            "將每個單字字首轉大寫後,獲得句子為 An Apple A Day Keeps The Doctor Away\n"
          ],
          "name": "stdout"
        }
      ]
    },
    {
      "cell_type": "code",
      "metadata": {
        "id": "Ic2wiFebgY5p",
        "colab_type": "code",
        "colab": {}
      },
      "source": [
        ""
      ],
      "execution_count": 0,
      "outputs": []
    }
  ]
}