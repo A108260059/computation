{
  "nbformat": 4,
  "nbformat_minor": 0,
  "metadata": {
    "colab": {
      "name": "week6",
      "provenance": [],
      "collapsed_sections": [],
      "include_colab_link": true
    },
    "kernelspec": {
      "name": "python3",
      "display_name": "Python 3"
    }
  },
  "cells": [
    {
      "cell_type": "markdown",
      "metadata": {
        "id": "view-in-github",
        "colab_type": "text"
      },
      "source": [
        "<a href=\"https://colab.research.google.com/github/rray891012/computation/blob/master/week6.ipynb\" target=\"_parent\"><img src=\"https://colab.research.google.com/assets/colab-badge.svg\" alt=\"Open In Colab\"/></a>"
      ]
    },
    {
      "cell_type": "code",
      "metadata": {
        "id": "StJ5TdUAQ-pG",
        "colab_type": "code",
        "outputId": "de95dbf3-a398-4c63-bc87-0f6e3955ad0f",
        "colab": {
          "base_uri": "https://localhost:8080/",
          "height": 102
        }
      },
      "source": [
        "第一次期中考成績=int(input('請輸入第一次期中考成績?'))\n",
        "第二次期中考成績=int(input('請輸入第二次期中考成績?'))\n",
        "期末考=int(input('請輸入期末考成績?'))\n",
        "\n",
        "sum=第一次期中考成績+第二次期中考成績+期末考\n",
        "print('總分為',sum)\n",
        "\n",
        "\n",
        "average=sum/3\n",
        "print('平均為',average)\n",
        "              \n",
        "  "
      ],
      "execution_count": 1,
      "outputs": [
        {
          "output_type": "stream",
          "text": [
            "請輸入第一次期中考成績?85\n",
            "請輸入第二次期中考成績?96\n",
            "請輸入期末考成績?82\n",
            "總分為 263\n",
            "平均為 87.66666666666667\n"
          ],
          "name": "stdout"
        }
      ]
    },
    {
      "cell_type": "code",
      "metadata": {
        "id": "bu9KZawjaKry",
        "colab_type": "code",
        "outputId": "674d71e9-dedc-4fc7-84c8-cc21096fc5c6",
        "colab": {
          "base_uri": "https://localhost:8080/",
          "height": 51
        }
      },
      "source": [
        "number=input('請輸入座號?')\n",
        "print('組別為',8)"
      ],
      "execution_count": 2,
      "outputs": [
        {
          "output_type": "stream",
          "text": [
            "請輸入座號?32\n",
            "組別為 8\n"
          ],
          "name": "stdout"
        }
      ]
    },
    {
      "cell_type": "code",
      "metadata": {
        "id": "AE6q58e4aLDD",
        "colab_type": "code",
        "outputId": "5678f2e2-1737-4829-c08c-638726a4041f",
        "colab": {
          "base_uri": "https://localhost:8080/",
          "height": 51
        }
      },
      "source": [
        "數量=int(input('請輸入購買飲料的罐數?'))\n",
        "一打=int(數量/12)\n",
        "個數=(數量-一打*12)\n",
        "一打價格=一打*200\n",
        "個數價格=個數*20\n",
        "總價=一打價格+個數價格\n",
        "print(\"需花費\",總價)"
      ],
      "execution_count": 3,
      "outputs": [
        {
          "output_type": "stream",
          "text": [
            "請輸入購買飲料的罐數?50\n",
            "需花費 840\n"
          ],
          "name": "stdout"
        }
      ]
    },
    {
      "cell_type": "code",
      "metadata": {
        "id": "ezNARXh7aLI7",
        "colab_type": "code",
        "outputId": "59c6ef73-73e5-4a29-eb49-989c0a9922c7",
        "colab": {
          "base_uri": "https://localhost:8080/",
          "height": 68
        }
      },
      "source": [
        "c=float(input(\"請輸入幾尺?\"))\n",
        "d=float(input(\"請輸入幾吋?\"))\n",
        "y=(c*12+d)*2.54\n",
        "print('轉換為', y)+6\n",
        "\n",
        "\n",
        "        "
      ],
      "execution_count": 4,
      "outputs": [
        {
          "output_type": "stream",
          "text": [
            "請輸入幾尺?6\n",
            "請輸入幾吋?3\n",
            "轉換為 190.5\n"
          ],
          "name": "stdout"
        }
      ]
    },
    {
      "cell_type": "code",
      "metadata": {
        "id": "KLhtWIIyaLPS",
        "colab_type": "code",
        "colab": {}
      },
      "source": [
        ""
      ],
      "execution_count": 0,
      "outputs": []
    },
    {
      "cell_type": "code",
      "metadata": {
        "id": "d5p8IvbWaLVG",
        "colab_type": "code",
        "colab": {}
      },
      "source": [
        ""
      ],
      "execution_count": 0,
      "outputs": []
    },
    {
      "cell_type": "code",
      "metadata": {
        "id": "zwTT2EDCYVE7",
        "colab_type": "code",
        "colab": {}
      },
      "source": [
        "pr"
      ],
      "execution_count": 0,
      "outputs": []
    }
  ]
}