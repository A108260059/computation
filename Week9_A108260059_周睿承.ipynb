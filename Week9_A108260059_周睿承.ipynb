{
  "nbformat": 4,
  "nbformat_minor": 0,
  "metadata": {
    "colab": {
      "name": "Week9 A108260059 周睿承",
      "provenance": [],
      "include_colab_link": true
    },
    "kernelspec": {
      "name": "python3",
      "display_name": "Python 3"
    }
  },
  "cells": [
    {
      "cell_type": "markdown",
      "metadata": {
        "id": "view-in-github",
        "colab_type": "text"
      },
      "source": [
        "<a href=\"https://colab.research.google.com/github/rray891012/computation/blob/master/Week9_A108260059_%E5%91%A8%E7%9D%BF%E6%89%BF.ipynb\" target=\"_parent\"><img src=\"https://colab.research.google.com/assets/colab-badge.svg\" alt=\"Open In Colab\"/></a>"
      ]
    },
    {
      "cell_type": "code",
      "metadata": {
        "id": "1OKy_3g2donB",
        "colab_type": "code",
        "colab": {
          "base_uri": "https://localhost:8080/",
          "height": 51
        },
        "outputId": "3a8ead8d-f740-4fed-dbfa-592854630a72"
      },
      "source": [
        "\n",
        "score=int(input('請輸入一個成績?'))\n",
        "if score >=60:\n",
        "     print('有及格喔')\n",
        "else:\n",
        "     print('不及格ㄟ')"
      ],
      "execution_count": 1,
      "outputs": [
        {
          "output_type": "stream",
          "text": [
            "請輸入一個成績?50\n",
            "不及格ㄟ\n"
          ],
          "name": "stdout"
        }
      ]
    },
    {
      "cell_type": "code",
      "metadata": {
        "id": "aSCDr6uydupZ",
        "colab_type": "code",
        "colab": {
          "base_uri": "https://localhost:8080/",
          "height": 51
        },
        "outputId": "50cfa27e-bae8-4ec5-b88a-0be812a1da18"
      },
      "source": [
        "50\n",
        "score=int(input('請輸入一個成績?'))\n",
        "if score >=80:\n",
        "     print('非常好')\n",
        "elif score >=60:\n",
        "     print('不錯喔')\n",
        "else: \n",
        "     print('要加油')\n"
      ],
      "execution_count": 2,
      "outputs": [
        {
          "output_type": "stream",
          "text": [
            "請輸入一個成績?87\n",
            "非常好\n"
          ],
          "name": "stdout"
        }
      ]
    },
    {
      "cell_type": "code",
      "metadata": {
        "id": "P_g5LA5ndz0M",
        "colab_type": "code",
        "colab": {
          "base_uri": "https://localhost:8080/",
          "height": 68
        },
        "outputId": "742181a7-361b-4b8e-f8e5-77d9456edf49"
      },
      "source": [
        "x = float(input('請輸入該點的X座標？')) \n",
        "y = float(input('請輸入該點的Y座標？'))\n",
        "if (x > 0):\n",
        "  if (y > 0):\n",
        "    print('該點在第⼀象限') \n",
        "  else:\n",
        "   print('該點在第四象限') \n",
        "else:\n",
        " if (y > 0):\n",
        "  print('該點在第⼆象限') \n",
        " else:\n",
        "  print('該點在第三象限')"
      ],
      "execution_count": 3,
      "outputs": [
        {
          "output_type": "stream",
          "text": [
            "請輸入該點的X座標？1\n",
            "請輸入該點的Y座標？3\n",
            "該點在第⼀象限\n"
          ],
          "name": "stdout"
        }
      ]
    },
    {
      "cell_type": "code",
      "metadata": {
        "id": "bWlW60OFd5di",
        "colab_type": "code",
        "colab": {
          "base_uri": "https://localhost:8080/",
          "height": 51
        },
        "outputId": "186116eb-5ece-4d3c-cbe6-97a9593ec937"
      },
      "source": [
        "cost = int(input('請輸入購買⾦額？'))\n",
        "if cost >= 2000:\n",
        " print(cost * 0.9)\n",
        "else:\n",
        " print(cost)"
      ],
      "execution_count": 4,
      "outputs": [
        {
          "output_type": "stream",
          "text": [
            "請輸入購買⾦額？2000\n",
            "1800.0\n"
          ],
          "name": "stdout"
        }
      ]
    },
    {
      "cell_type": "code",
      "metadata": {
        "id": "GOPKw589d-gA",
        "colab_type": "code",
        "colab": {
          "base_uri": "https://localhost:8080/",
          "height": 51
        },
        "outputId": "a1030a3f-bd88-4cd0-97a0-f0d1e53ef282"
      },
      "source": [
        "num = int(input('請輸入⼀個整數？'))\n",
        "if num % 2 == 0:\n",
        " print(num, '為偶數')\n",
        "else:\n",
        " print(num, '為奇數')"
      ],
      "execution_count": 5,
      "outputs": [
        {
          "output_type": "stream",
          "text": [
            "請輸入⼀個整數？12\n",
            "12 為偶數\n"
          ],
          "name": "stdout"
        }
      ]
    },
    {
      "cell_type": "code",
      "metadata": {
        "id": "rdL8jEWEeB9u",
        "colab_type": "code",
        "colab": {}
      },
      "source": [
        ""
      ],
      "execution_count": 0,
      "outputs": []
    }
  ]
}